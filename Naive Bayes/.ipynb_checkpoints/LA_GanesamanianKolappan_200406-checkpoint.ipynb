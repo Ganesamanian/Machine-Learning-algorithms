{
 "cells": [
  {
   "cell_type": "markdown",
   "metadata": {},
   "source": [
    "# Build a spam classifier using Naive Bayes"
   ]
  },
  {
   "cell_type": "markdown",
   "metadata": {},
   "source": [
    "## Project Description: \n",
    "- There are three datasets for training: TrainDataset1.csv, TrainDataset2.csv and TrainDataset3.txt. Each dataset contains short messages with the labels (ham or spam). \n",
    "- Analyse, clean and visualise these datasets.\n",
    "- Combine them into one big data set for the training\n",
    "- Use this dataset in order to build your own Naive Bayes classifier. (You can either use existing Naive Bayes from sklearn or build your own one)\n",
    "- Verify your Classifier using new messages (create your own messages or use the messages from the TestDataset.csv dataset).\n",
    "\n",
    "## Project Duration: 2 weeks\n",
    "## Project Deliverables:\n",
    "1. End of the first week do Data preprocessing: \n",
    "    - Load the dataset using pandas, \n",
    "    - Analysis it for this you will need to process the text, namely remove punctuation and stopwords, and then create a list of clean text words. (Research how to do this) \n",
    "    - Visualise the results\n",
    "    - Prepare the pre-processed data for the usage by Naive Bayes Classifier\n",
    "2. End of the second week:\n",
    "    - Train the classifier,\n",
    "    - Validate it, build confusion matrix, analyse its results\n",
    "    - Apply it to new test messages,\n",
    "    - Try to cheat the classifier by adding \"good words\" to the end of test message."
   ]
  },
  {
   "cell_type": "markdown",
   "metadata": {},
   "source": [
    "You can use the following link can be used as guidance for implementation:\n",
    "https://towardsdatascience.com/spam-filtering-using-naive-bayes-98a341224038"
   ]
  },
  {
   "cell_type": "code",
   "execution_count": 20,
   "metadata": {
    "scrolled": true
   },
   "outputs": [],
   "source": [
    "#Headers\n",
    "import pandas as pd\n",
    "import matplotlib.pyplot as plt\n",
    "import re\n",
    "from nltk.corpus import stopwords\n",
    "\n",
    "from sklearn.model_selection import train_test_split\n",
    "from sklearn.feature_extraction.text import CountVectorizer\n",
    "from sklearn.naive_bayes import MultinomialNB\n",
    "from sklearn.metrics import accuracy_score, precision_score, confusion_matrix, classification_report"
   ]
  },
  {
   "cell_type": "code",
   "execution_count": 2,
   "metadata": {},
   "outputs": [
    {
     "name": "stdout",
     "output_type": "stream",
     "text": [
      "Number of data in the dataframe-1 : 5559\n",
      "Number of data in the dataframe-2 : 4457\n",
      "Number of data in the dataframe-3 : 5572\n"
     ]
    }
   ],
   "source": [
    "#Loading of dataset\n",
    "df3 = pd.read_csv('TrainDataset3.txt', sep='\\t', header=None, names=['label', 'message'])\n",
    "df2 =pd.read_csv('TrainDataset2.csv', header=None, names=['label', 'message'])\n",
    "df1 =pd.read_csv('TrainDataset1.csv', header=None, names=['label', 'message'])\n",
    "df1 = df1.iloc[1:]\n",
    "df2 = df2.iloc[1:]\n",
    "\n",
    "print(\"Number of data in the dataframe-1 : {}\".format(len(df1)))\n",
    "print(\"Number of data in the dataframe-2 : {}\".format(len(df2)))\n",
    "print(\"Number of data in the dataframe-3 : {}\".format(len(df3)))\n"
   ]
  },
  {
   "cell_type": "code",
   "execution_count": 3,
   "metadata": {},
   "outputs": [
    {
     "name": "stdout",
     "output_type": "stream",
     "text": [
      "Before pre-processing \n",
      "\n",
      "  label                                            message\n",
      "1   ham  Hope you are having a good week. Just checking in\n",
      "2   ham                            K..give back my thanks.\n",
      "3   ham        Am also doing in cbe only. But have to pay.\n",
      "4  spam  complimentary 4 STAR Ibiza Holiday or £10,000 ...\n",
      "5  spam  okmail: Dear Dave this is your final notice to...\n",
      "\n",
      " Number of data in total : 15588 \n",
      "\n",
      "After pre-processing \n",
      "\n",
      "  label                                            message\n",
      "1   ham                            hope good week checking\n",
      "2   ham                                 k give back thanks\n",
      "3   ham                                       also cbe pay\n",
      "4  spam  complimentary 4 star ibiza holiday 10 000 cash...\n",
      "5  spam  okmail dear dave final notice collect 4 teneri...\n"
     ]
    }
   ],
   "source": [
    "#Pre-processing the dataset - case folding, removing the punctuations, \n",
    "#spliting the words and then removing the stop words\n",
    "def processing(df,idx):\n",
    "    stop_words = set(stopwords.words(\"english\"))\n",
    "    for i in range(idx, len(df[\"message\"])):\n",
    "        df[\"message\"][i] = df[\"message\"][i].lower()     \n",
    "        df[\"message\"][i] = re.sub('[^\\w|^\\s]', ' ', df[\"message\"][i])\n",
    "        df[\"message\"][i] = df[\"message\"][i].split()\n",
    "        df[\"message\"][i] = [w for w in df[\"message\"][i] if not w in stop_words]\n",
    "        df[\"message\"][i] = \" \".join(df[\"message\"][i])\n",
    "\n",
    "    return df\n",
    "\n",
    "\n",
    "print(\"Before pre-processing \\n\")\n",
    "print(df1.head(5))\n",
    "\n",
    "df1 = processing(df1,1)\n",
    "df2 = processing(df2,1)\n",
    "df3 = processing(df3,0)\n",
    "\n",
    "#Merging the datasets into one big dataset for training\n",
    "data = pd.concat([df1, df2, df3])\n",
    "print(\"\\n Number of data in total : {} \\n\".format(len(data)))\n",
    "print(\"After pre-processing \\n\")\n",
    "print(data.head(5))"
   ]
  },
  {
   "cell_type": "code",
   "execution_count": 4,
   "metadata": {},
   "outputs": [
    {
     "data": {
      "image/png": "[encoded data removed]",
      "text/plain": [
       "<Figure size 432x288 with 1 Axes>"
      ]
     },
     "metadata": {
      "needs_background": "light"
     },
     "output_type": "display_data"
    },
    {
     "data": {
      "text/html": [
       "<div>\n",
       "<style scoped>\n",
       "    .dataframe tbody tr th:only-of-type {\n",
       "        vertical-align: middle;\n",
       "    }\n",
       "\n",
       "    .dataframe tbody tr th {\n",
       "        vertical-align: top;\n",
       "    }\n",
       "\n",
       "    .dataframe thead th {\n",
       "        text-align: right;\n",
       "    }\n",
       "</style>\n",
       "<table border=\"1\" class=\"dataframe\">\n",
       "  <thead>\n",
       "    <tr style=\"text-align: right;\">\n",
       "      <th></th>\n",
       "      <th>label</th>\n",
       "      <th>message</th>\n",
       "    </tr>\n",
       "  </thead>\n",
       "  <tbody>\n",
       "    <tr>\n",
       "      <th>1</th>\n",
       "      <td>0</td>\n",
       "      <td>hope good week checking</td>\n",
       "    </tr>\n",
       "    <tr>\n",
       "      <th>2</th>\n",
       "      <td>0</td>\n",
       "      <td>k give back thanks</td>\n",
       "    </tr>\n",
       "    <tr>\n",
       "      <th>3</th>\n",
       "      <td>0</td>\n",
       "      <td>also cbe pay</td>\n",
       "    </tr>\n",
       "    <tr>\n",
       "      <th>4</th>\n",
       "      <td>1</td>\n",
       "      <td>complimentary 4 star ibiza holiday 10 000 cash...</td>\n",
       "    </tr>\n",
       "    <tr>\n",
       "      <th>5</th>\n",
       "      <td>1</td>\n",
       "      <td>okmail dear dave final notice collect 4 teneri...</td>\n",
       "    </tr>\n",
       "  </tbody>\n",
       "</table>\n",
       "</div>"
      ],
      "text/plain": [
       "   label                                            message\n",
       "1      0                            hope good week checking\n",
       "2      0                                 k give back thanks\n",
       "3      0                                       also cbe pay\n",
       "4      1  complimentary 4 star ibiza holiday 10 000 cash...\n",
       "5      1  okmail dear dave final notice collect 4 teneri..."
      ]
     },
     "execution_count": 4,
     "metadata": {},
     "output_type": "execute_result"
    }
   ],
   "source": [
    "#visualising the result\n",
    "count_Class=pd.value_counts(data[\"label\"], sort= True)\n",
    "count_Class.plot(kind= 'bar', color= [\"red\", \"blue\"])\n",
    "data['label'] = data['label'].map({'ham':0,'spam':1})\n",
    "plt.title('Spam and ham data distribution')\n",
    "plt.show()\n",
    "data.head(5)"
   ]
  },
  {
   "cell_type": "code",
   "execution_count": 5,
   "metadata": {},
   "outputs": [
    {
     "name": "stdout",
     "output_type": "stream",
     "text": [
      "Number of data used for training: 11691\n",
      "Number of data used for testing: 3897\n"
     ]
    }
   ],
   "source": [
    "#Splitting of dataset and vectorizing the words\n",
    "X_train, X_test, y_train, y_test = train_test_split(data['message'], \n",
    "                                                    data['label'], \n",
    "                                                    random_state=1)\n",
    "\n",
    "print(\"Number of data used for training: {}\".format(len(X_train)))\n",
    "print(\"Number of data used for testing: {}\".format(len(X_test)))\n",
    "\n",
    "count_vector = CountVectorizer()\n",
    "training_data = count_vector.fit_transform(X_train)\n",
    "testing_data = count_vector.transform(X_test)"
   ]
  },
  {
   "cell_type": "code",
   "execution_count": 6,
   "metadata": {},
   "outputs": [],
   "source": [
    "#Initializing naive bayes and predicting based on the training sets\n",
    "naive_bayes = MultinomialNB()\n",
    "naive_bayes.fit(training_data, y_train)\n",
    "predictions = naive_bayes.predict(testing_data)"
   ]
  },
  {
   "cell_type": "code",
   "execution_count": 7,
   "metadata": {},
   "outputs": [
    {
     "name": "stdout",
     "output_type": "stream",
     "text": [
      "Accuracy score: 0.993841416474211\n",
      "\n",
      "Precision score: 0.9695817490494296\n"
     ]
    },
    {
     "data": {
      "text/html": [
       "<div>\n",
       "<style scoped>\n",
       "    .dataframe tbody tr th:only-of-type {\n",
       "        vertical-align: middle;\n",
       "    }\n",
       "\n",
       "    .dataframe tbody tr th {\n",
       "        vertical-align: top;\n",
       "    }\n",
       "\n",
       "    .dataframe thead th {\n",
       "        text-align: right;\n",
       "    }\n",
       "</style>\n",
       "<table border=\"1\" class=\"dataframe\">\n",
       "  <thead>\n",
       "    <tr style=\"text-align: right;\">\n",
       "      <th></th>\n",
       "      <th>Predicted ham</th>\n",
       "      <th>Predicted spam</th>\n",
       "    </tr>\n",
       "  </thead>\n",
       "  <tbody>\n",
       "    <tr>\n",
       "      <th>Actual ham</th>\n",
       "      <td>3363</td>\n",
       "      <td>16</td>\n",
       "    </tr>\n",
       "    <tr>\n",
       "      <th>Actual spam</th>\n",
       "      <td>8</td>\n",
       "      <td>510</td>\n",
       "    </tr>\n",
       "  </tbody>\n",
       "</table>\n",
       "</div>"
      ],
      "text/plain": [
       "             Predicted ham  Predicted spam\n",
       "Actual ham            3363              16\n",
       "Actual spam              8             510"
      ]
     },
     "execution_count": 7,
     "metadata": {},
     "output_type": "execute_result"
    }
   ],
   "source": [
    "#Accuracy, Precision, Confusion Matrix\n",
    "\n",
    "print('Accuracy score: {}'.format(accuracy_score(y_test, predictions)))\n",
    "print('\\nPrecision score: {}'.format(precision_score(y_test, predictions)))\n",
    "confusion_mat = confusion_matrix(y_test, predictions)\n",
    "\n",
    "pd.DataFrame(confusion_mat, columns = ['Predicted ham', 'Predicted spam'],\n",
    "                            index = ['Actual ham', 'Actual spam'])"
   ]
  },
  {
   "cell_type": "code",
   "execution_count": 8,
   "metadata": {},
   "outputs": [
    {
     "name": "stdout",
     "output_type": "stream",
     "text": [
      "Before pre-processing \n",
      "\n",
      "                                             message\n",
      "1      Prabha..i'm soryda..realy..frm heart i'm sory\n",
      "2                             Jus chillaxin, what up\n",
      "3                          Ok no prob. Take ur time.\n",
      "4  Congrats! 2 mobile 3G Videophones R yours. cal...\n",
      "5  Thankyou so much for the call. I appreciate yo...\n",
      "\n",
      "After pre-processing \n",
      "\n",
      "                                             message\n",
      "1                 prabha soryda realy frm heart sory\n",
      "2                                      jus chillaxin\n",
      "3                               ok prob take ur time\n",
      "4  congrats 2 mobile 3g videophones r call 090617...\n",
      "5                 thankyou much call appreciate care\n",
      "\n",
      "Number of Spams identified: 163\n",
      "\n",
      "Number of Hams identified: 952\n"
     ]
    },
    {
     "data": {
      "image/png": "[encoded data removed]",
      "text/plain": [
       "<Figure size 432x288 with 1 Axes>"
      ]
     },
     "metadata": {
      "needs_background": "light"
     },
     "output_type": "display_data"
    },
    {
     "name": "stdout",
     "output_type": "stream",
     "text": [
      "\n",
      "Newly added messages\n",
      "                                                message\n",
      "1115                                       How are you?\n",
      "1116                          tomorrow is Saturday.....\n",
      "1117                   COVID19 is a serious issue!!!!!!\n",
      "1118          Free cash 1000 euros grap the opportunity\n",
      "1119          Flash sale!! last day to claim is May 1st\n",
      "1120                 I got my shoes in the flash sale. \n",
      "1121       Blah...lah..Blah..Baaa..click the below link\n",
      "1122              Avenger's Endgame ticket price is 35$\n",
      "1123  Share Market has fallen down due to Corona out...\n",
      "1124    In December month the end of season sale begins\n",
      "1125             Buy 2 get one free...free...Hurry up!!\n",
      "\n",
      "Number of Spams identified: 166\n",
      "\n",
      "Number of Hams identified: 960\n"
     ]
    },
    {
     "data": {
      "image/png": "[encoded data removed]",
      "text/plain": [
       "<Figure size 432x288 with 1 Axes>"
      ]
     },
     "metadata": {
      "needs_background": "light"
     },
     "output_type": "display_data"
    },
    {
     "name": "stdout",
     "output_type": "stream",
     "text": [
      "                                      message  Label\n",
      "1115                                               0\n",
      "1116                        tomorrow saturday      0\n",
      "1117                    covid19 serious issue      0\n",
      "1118    free cash 1000 euros grap opportunity      1\n",
      "1119        flash sale last day claim may 1st      1\n",
      "1120                     got shoes flash sale      0\n",
      "1121            blah lah blah baaa click link      0\n",
      "1122          avenger endgame ticket price 35      0\n",
      "1123  share market fallen due corona outbreak      0\n",
      "1124    december month end season sale begins      1\n",
      "1125            buy 2 get one free free hurry      0\n"
     ]
    }
   ],
   "source": [
    "#Applying the trained model on the given Testdataset\n",
    "\n",
    "def test_and_plot(df):\n",
    "    testing_data = count_vector.transform(df['message'])\n",
    "    predictions = naive_bayes.predict(testing_data)\n",
    "\n",
    "    ones = predictions.sum()\n",
    "    zeros = len(predictions)-ones\n",
    "    print(\"\\nNumber of Spams identified: {}\".format(ones))\n",
    "    print(\"\\nNumber of Hams identified: {}\".format(zeros))\n",
    "\n",
    "    x_axis = [2,2.5]\n",
    "    y_axis = [zeros,ones]\n",
    "\n",
    "    #plotting the result\n",
    "    plt.bar(x_axis, y_axis, align='center', width=0.3, alpha=0.7)\n",
    "    plt.xticks(x_axis, [\"ham\",\"spam\"])\n",
    "    plt.ylabel('Count')\n",
    "    plt.title(\"Spam and ham classification\")\n",
    "\n",
    "    plt.show()\n",
    "    return predictions\n",
    "    \n",
    "    \n",
    "df =pd.read_csv('TestDataset.csv', header=None, names=['message'])\n",
    "df = df.iloc[1:]\n",
    "print(\"Before pre-processing \\n\")\n",
    "print(df.head(5))\n",
    "df = processing(df,1)\n",
    "print(\"\\nAfter pre-processing \\n\")\n",
    "print(df.head(5))\n",
    "\n",
    "test_and_plot(df)\n",
    "\n",
    "#Adding New words (Ham and spam) to the current list\n",
    "df_c = pd.DataFrame({\"message\":[\"How are you?\", \n",
    "                                \"tomorrow is Saturday.....\",\n",
    "                                \"COVID19 is a serious issue!!!!!!\",\n",
    "                                \"Free cash 1000 euros grap the opportunity\",\n",
    "                                \"Flash sale!! last day to claim is May 1st\",\n",
    "                                \"I got my shoes in the flash sale. \",\n",
    "                                \"Blah...lah..Blah..Baaa..click the below link\",\n",
    "                                \"Avenger's Endgame ticket price is 35$\",\n",
    "                                \"Share Market has fallen down due to Corona outbreak\",\n",
    "                                \"In December month the end of season sale begins\",\n",
    "                                \"Buy 2 get one free...free...Hurry up!!\"]})\n",
    "\n",
    "df= df.append(df_c, ignore_index=True)\n",
    "print(\"\\nNewly added messages\")\n",
    "print(df.tail(11))\n",
    "df = processing(df,1)\n",
    "pred = test_and_plot(df)\n",
    "df.insert(1, \"Label\", pred)\n",
    "print(df.tail(11))"
   ]
  },
  {
   "cell_type": "markdown",
   "metadata": {},
   "source": [
    "**Comments**<br>\n",
    "The classifier classifies with 99.3% accuracy yet we can cheat the classifier easily. <br>\n",
    "The sentence in 1121 and 1125 are likely to be \"spam\" but it has predicted as \"ham\". <br>\n",
    "Sentence 1115 is an example for misleading the classifier by using good or stop words more compare to the spam words so the classifier will ignore those.<br>\n",
    "Sentence 1124 is kind of misclassification since it doesn't look like spam since its an information<br>\n",
    "Good classifier should decrease incorrectly matching (True Positive) and incorrectly missing to match (False Negative)."
   ]
  },
  {
   "cell_type": "code",
   "execution_count": 11,
   "metadata": {},
   "outputs": [
    {
     "data": {
      "text/html": [
       "<div>\n",
       "<style scoped>\n",
       "    .dataframe tbody tr th:only-of-type {\n",
       "        vertical-align: middle;\n",
       "    }\n",
       "\n",
       "    .dataframe tbody tr th {\n",
       "        vertical-align: top;\n",
       "    }\n",
       "\n",
       "    .dataframe thead th {\n",
       "        text-align: right;\n",
       "    }\n",
       "</style>\n",
       "<table border=\"1\" class=\"dataframe\">\n",
       "  <thead>\n",
       "    <tr style=\"text-align: right;\">\n",
       "      <th></th>\n",
       "      <th>label</th>\n",
       "      <th>message</th>\n",
       "    </tr>\n",
       "  </thead>\n",
       "  <tbody>\n",
       "    <tr>\n",
       "      <th>0</th>\n",
       "      <td>ham</td>\n",
       "      <td>Go until jurong point, crazy.. Available only ...</td>\n",
       "    </tr>\n",
       "    <tr>\n",
       "      <th>1</th>\n",
       "      <td>ham</td>\n",
       "      <td>Ok lar... Joking wif u oni...</td>\n",
       "    </tr>\n",
       "    <tr>\n",
       "      <th>2</th>\n",
       "      <td>spam</td>\n",
       "      <td>Free entry in 2 a wkly comp to win FA Cup fina...</td>\n",
       "    </tr>\n",
       "    <tr>\n",
       "      <th>3</th>\n",
       "      <td>ham</td>\n",
       "      <td>U dun say so early hor... U c already then say...</td>\n",
       "    </tr>\n",
       "    <tr>\n",
       "      <th>4</th>\n",
       "      <td>ham</td>\n",
       "      <td>Nah I don't think he goes to usf, he lives aro...</td>\n",
       "    </tr>\n",
       "  </tbody>\n",
       "</table>\n",
       "</div>"
      ],
      "text/plain": [
       "  label                                            message\n",
       "0   ham  Go until jurong point, crazy.. Available only ...\n",
       "1   ham                      Ok lar... Joking wif u oni...\n",
       "2  spam  Free entry in 2 a wkly comp to win FA Cup fina...\n",
       "3   ham  U dun say so early hor... U c already then say...\n",
       "4   ham  Nah I don't think he goes to usf, he lives aro..."
      ]
     },
     "execution_count": 11,
     "metadata": {},
     "output_type": "execute_result"
    }
   ],
   "source": [
    "new_df =pd.read_csv('SMSSpamCollection.txt', sep='\\t', header=None, names=['label', 'message'])\n",
    "new_df.head(5)"
   ]
  },
  {
   "cell_type": "code",
   "execution_count": 24,
   "metadata": {},
   "outputs": [
    {
     "data": {
      "text/plain": [
       "array([0, 0, 1, ..., 0, 0, 0])"
      ]
     },
     "execution_count": 24,
     "metadata": {},
     "output_type": "execute_result"
    }
   ],
   "source": [
    "new_df = processing(new_df, 0)\n",
    "new_df['label'] = new_df['label'].map({'ham':0,'spam':1})\n",
    "testing_data = count_vector.transform(new_df['message'])\n",
    "\n",
    "predictions = naive_bayes.predict(testing_data)\n",
    "predictions"
   ]
  },
  {
   "cell_type": "code",
   "execution_count": 27,
   "metadata": {},
   "outputs": [
    {
     "name": "stdout",
     "output_type": "stream",
     "text": [
      "Accuracy score: 0.9946159368269921\n",
      "\n",
      "Precision score: 0.9735799207397622\n"
     ]
    },
    {
     "data": {
      "text/plain": [
       "array([[4805,   20],\n",
       "       [  10,  737]])"
      ]
     },
     "execution_count": 27,
     "metadata": {},
     "output_type": "execute_result"
    }
   ],
   "source": [
    "print('Accuracy score: {}'.format(accuracy_score(new_df['label'], predictions)))\n",
    "print('\\nPrecision score: {}'.format(precision_score(new_df['label'], predictions)))\n",
    "confusion_mat = confusion_matrix(new_df['label'], predictions)\n",
    "confusion_mat"
   ]
  },
  {
   "cell_type": "code",
   "execution_count": null,
   "metadata": {},
   "outputs": [],
   "source": []
  }
 ],
 "metadata": {
  "kernelspec": {
   "display_name": "Python 3",
   "language": "python",
   "name": "python3"
  },
  "language_info": {
   "codemirror_mode": {
    "name": "ipython",
    "version": 3
   },
   "file_extension": ".py",
   "mimetype": "text/x-python",
   "name": "python",
   "nbconvert_exporter": "python",
   "pygments_lexer": "ipython3",
   "version": "3.5.2"
  }
 },
 "nbformat": 4,
 "nbformat_minor": 2
}
